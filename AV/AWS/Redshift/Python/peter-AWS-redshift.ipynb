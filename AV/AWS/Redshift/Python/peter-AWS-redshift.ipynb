{
 "cells": [
  {
   "cell_type": "code",
   "execution_count": 1,
   "id": "457513c9",
   "metadata": {},
   "outputs": [],
   "source": [
    "import redshift_connector"
   ]
  },
  {
   "cell_type": "code",
   "execution_count": 6,
   "id": "be27f6c6",
   "metadata": {
    "scrolled": false
   },
   "outputs": [],
   "source": [
    "conn = redshift_connector.connect(\n",
    "     host='redshift-cluster-rna.csvpwdknrhzd.ap-south-1.redshift.amazonaws.com',\n",
    "     port=5439,\n",
    "     database='db_dev_lims',\n",
    "     user='lims_dev_user',\n",
    "     password='a1dFR09mn!6lk'\n",
    "  )\n"
   ]
  },
  {
   "cell_type": "code",
   "execution_count": 12,
   "id": "56724243",
   "metadata": {
    "scrolled": false
   },
   "outputs": [],
   "source": [
    "cursor = conn.cursor()\n",
    "\n"
   ]
  },
  {
   "cell_type": "code",
   "execution_count": 13,
   "id": "4c42074d",
   "metadata": {},
   "outputs": [
    {
     "data": {
      "text/plain": [
       "<redshift_connector.cursor.Cursor at 0x207198117b0>"
      ]
     },
     "execution_count": 13,
     "metadata": {},
     "output_type": "execute_result"
    }
   ],
   "source": [
    "cursor.execute(\"select * from sc_unilab_ens.utlc\")"
   ]
  },
  {
   "cell_type": "code",
   "execution_count": 14,
   "id": "41ae2e52",
   "metadata": {},
   "outputs": [
    {
     "name": "stdout",
     "output_type": "stream",
     "text": [
      "(['PI', '0', '1', '2010-11-10 10:14:19.000000000', None, 'Infocard PIBS', 'Infocard PIBS', None, '0', '0', None, None, None, '1', None, '0', '1', '@L', '0', '@A', None, None], ['W2', '0', '1', '2013-02-13 10:53:14.000000000', None, 'worksheet prep', 'worksheet preperation', None, '0', '0', None, None, None, '1', None, '0', '1', '@L', '0', '@A', '2013-02-13 11:53:14.000000000 +01:00', None], ['W1', '0', '1', '2013-02-13 10:53:14.000000000', None, 'worksheet testing', 'worksheet testing', None, '1', '0', None, None, None, '1', None, '0', '1', '@L', '0', '@A', '2013-02-13 11:53:14.000000000 +01:00', None], ['P3', '0', '1', '2013-02-13 10:53:16.000000000', None, 'Parameter Outdoor', 'Parameter Outdoor', None, '0', '0', None, None, None, '1', None, '0', '1', '@L', '0', '@A', '2013-02-13 11:53:16.000000000 +01:00', None], ['R2', '0', '1', '2013-02-13 10:56:57.000000000', None, 'Request outdoor', 'Request outdoor', None, '0', '0', None, None, None, '1', None, '0', '0', '@L', '0', '@O', '2013-02-13 11:56:57.000000000 +01:00', None], ['@L', '0', '1', '2007-02-05 11:41:44.000000000', None, 'System LC', 'Main System Life Cycle', '1', '0', '0', None, 'ERULG202 changes applied', None, '1', None, '0', '1', '@L', '0', '@A', None, None], ['S2', '0', '1', '2007-02-05 23:00:00.000000000', None, 'x-backup sc prod', 'x-backup sc prod', None, '0', '0', None, None, None, '1', None, '0', '1', '@L', '0', '@A', None, None], ['G1', '0', '1', '2007-02-05 23:00:00.000000000', None, 'pg production std', 'Production parametergroup standard', None, '0', '0', None, None, None, '1', None, '0', '1', '@L', '0', '@A', None, None], ['G2', '0', '1', '2007-02-05 23:00:00.000000000', None, 'pg regular release', 'Production pg regular release', None, '0', '0', None, 'I1612-371, PG_A06 added', None, '1', None, '0', '1', '@L', '0', '@A', None, None], ['P2', '0', '1', '2007-02-05 23:00:00.000000000', None, 'x-backup pa prod', 'x-backup pa  prod', None, '0', '0', 'AV', None, None, '1', None, '0', '1', '@L', '0', '@A', None, None], ['M2', '0', '1', '2007-02-05 23:00:00.000000000', None, 'me prod ZZ DT*', 'me prod ZZ in dev', None, '0', '0', 'AV', None, None, '0', None, '0', '1', '@L', '0', '@A', None, None], ['P1', '0', '1', '2007-02-05 23:00:00.000000000', None, 'pa production', 'Production parameter', None, '0', '0', 'AV', None, None, '1', None, '0', '1', '@L', '0', '@A', None, None], ['S1', '0', '1', '2007-02-05 23:00:00.000000000', None, 'sc production', 'Production sample', None, '0', '0', None, None, None, '1', None, '0', '1', '@L', '0', '@A', None, None], ['II', '0', '1', '2008-02-25 20:15:19.000000000', None, 'Info field', 'Info field (operational)', None, '0', '0', None, None, None, '1', None, '0', '1', '@L', '0', '@A', None, None], ['IC', '0', '1', '2008-02-25 20:16:37.000000000', None, 'Info card', 'Info card', None, '0', '0', None, None, None, '1', None, '0', '1', '@L', '0', '@A', None, None], ['SP', '0', '1', '2008-12-09 15:31:56.000000000', None, 'sc PCT trials', 'sc PCT trials', None, '1', '0', None, None, None, '1', None, '0', '1', '@L', '0', '@A', None, None], ['I2', '0', '1', '2008-08-14 20:18:52.000000000', None, 'Info field copy', 'Info field (operational)', None, '0', '0', None, None, None, '1', None, '0', '1', '@L', '0', '@A', None, None], ['R1', '0', '1', '2008-08-14 15:57:20.000000000', None, 'Request trials', 'Request trials', None, '1', '0', None, 'Modifications for I1705-020', None, '1', None, '0', '1', '@L', '0', '@A', None, None], ['PR', '0', '1', '2008-10-01 11:11:14.000000000', None, 'System LC PR', 'System LC PR', None, '0', '0', None, 'ERULG202 changed applied', None, '1', None, '0', '1', '@L', '0', '@A', None, None], ['PP', '0', '1', '2008-09-26 16:05:06.000000000', None, 'System LC PP', 'System LC PP', None, '0', '0', None, None, None, '1', None, '0', '1', '@L', '0', '@A', None, None], ['ST', '0', '1', '2008-09-26 13:32:27.000000000', None, 'System LC ST', 'System LC ST', None, '0', '0', None, None, None, '1', None, '0', '1', '@L', '0', '@A', None, None], ['LD', '0', '1', '2011-05-27 17:44:20.000000000', None, 'LC Document', 'LC for Document', '1', '0', '0', None, None, None, '1', None, '0', '1', '@L', '0', '@A', None, None], ['@D', '0', '1', '2011-05-27 17:44:20.000000000', None, 'Doc CheckIn/Out Mode', 'Doc CheckIn/Out Mode', '1', '0', '0', None, None, None, '1', None, '0', '1', '@L', '0', '@A', None, None], ['R3', '0', '1', '2013-02-08 10:15:24.000000000', None, 'Request reference', 'Request reference', None, '0', '0', None, None, None, '1', None, '0', '0', '@L', '0', '@O', '2013-02-08 11:15:24.000000000 +01:00', None], ['W4', '0', '1', '2021-03-16 12:17:22.000000000', None, 'Worksheet no prep', 'worksheet testing no prep', None, '1', '0', None, None, None, '1', None, '0', '1', '@L', '0', '@A', '2021-03-16 13:17:22.000000000 +01:00', None], ['M3', '0', '1', '2016-05-19 13:46:53.000000000', None, 'me prod ZZ', 'me prod ZZ', None, '0', '0', 'WA', None, None, '0', None, '1', '0', '@L', '0', '@E', '2016-05-19 15:46:53.000000000 +02:00', None], ['R4', '0', '1', '2020-02-25 13:19:23.000000000', None, 'Request indoor', 'Request trials', None, '1', '0', None, None, None, '1', None, '0', '0', '@L', '0', '@O', '2020-02-25 14:19:23.000000000 +01:00', None], ['W3', '0', '1', '2020-05-01 08:39:38.000000000', None, 'Worksheet Prototype', 'Worksheet prototype building', None, '0', '0', None, None, None, '1', None, '0', '1', '@L', '0', '@A', '2020-05-01 10:39:38.000000000 +02:00', None], ['P4', '0', '1', '2021-01-04 13:38:27.000000000', None, 'Parameter direct CM', 'Parameter direct complete', None, '0', '0', None, None, None, '1', None, '0', '1', '@L', '0', '@A', '2021-01-04 14:38:27.000000000 +01:00', None], ['M4', '0', '1', '2015-12-24 14:40:40.000000000', None, 'me unilink no-wait', 'me unilink no-wait', None, '0', '0', 'AV', None, None, '1', None, '0', '1', '@L', '0', '@A', '2015-12-24 15:40:40.000000000 +01:00', None], ['SW', '0', '1', '2021-08-26 09:02:25.000000000', None, 'sc PCT trials WH', 'sc PCT trials Warehouse', None, '1', '0', None, None, None, '1', None, '0', '1', '@L', '0', '@A', '2021-08-26 11:02:25.000000000 +02:00', None], ['M1', '0', '1', '2007-02-05 23:00:00.000000000', None, 'me production', 'Production method', None, '0', '0', 'WA', None, None, '0', None, '0', '1', '@L', '0', '@A', None, None])\n"
     ]
    }
   ],
   "source": [
    "print(cursor.fetchall())"
   ]
  },
  {
   "cell_type": "code",
   "execution_count": 15,
   "id": "2d3adf8d",
   "metadata": {},
   "outputs": [],
   "source": [
    "cursor.close()\n",
    "conn.close()\n"
   ]
  },
  {
   "cell_type": "code",
   "execution_count": null,
   "id": "16e59ee7",
   "metadata": {},
   "outputs": [],
   "source": []
  }
 ],
 "metadata": {
  "kernelspec": {
   "display_name": "Python 3 (ipykernel)",
   "language": "python",
   "name": "python3"
  },
  "language_info": {
   "codemirror_mode": {
    "name": "ipython",
    "version": 3
   },
   "file_extension": ".py",
   "mimetype": "text/x-python",
   "name": "python",
   "nbconvert_exporter": "python",
   "pygments_lexer": "ipython3",
   "version": "3.10.3"
  }
 },
 "nbformat": 4,
 "nbformat_minor": 5
}
